{
 "cells": [
  {
   "cell_type": "code",
   "execution_count": 1,
   "metadata": {
    "collapsed": true
   },
   "outputs": [],
   "source": [
    "import numpy as np\n",
    "import pandas as pd\n",
    "import matplotlib.pyplot as plt"
   ]
  },
  {
   "cell_type": "code",
   "execution_count": 2,
   "outputs": [],
   "source": [
    "class NaiveBayesClassifier:\n",
    "    def __init__(self):\n",
    "        self.probabilities_vector = pd.Series(dtype=np.float64)\n",
    "        self.probabilities_table = None\n",
    "\n",
    "    def fit(self, X: pd.DataFrame, y: pd.Series) -> None:\n",
    "        data = pd.DataFrame()\n",
    "        data_length = len(X)\n",
    "        for category in y.unique():\n",
    "            temp_data = pd.DataFrame({'answer': [], 'variable': [], 'value': [], 'probability': []})\n",
    "\n",
    "            filter_vector = y == category\n",
    "            self.probabilities_vector[category] = np.sum(filter_vector) / data_length\n",
    "            filtered_length = sum(filter_vector)\n",
    "            for variable in X.columns:\n",
    "                for value in X[variable].unique():\n",
    "                    probability = len(X[filter_vector & (X[variable] == value)]) / filtered_length\n",
    "                    if probability == 0:\n",
    "                        probability = 1 / (len(X[variable].unique()) + filtered_length)\n",
    "                    temp_data = pd.concat([temp_data, pd.DataFrame({\n",
    "                            'answer': [category],\n",
    "                            'variable': [variable],\n",
    "                            'value': [value],\n",
    "                            'probability': [probability]\n",
    "                        })])\n",
    "\n",
    "            data = pd.concat([data, temp_data])\n",
    "        self.probabilities_table = data.pivot_table(columns='answer', index=['variable', 'value'], values='probability')\n",
    "\n",
    "    def predict(self, X: pd.DataFrame) -> pd.Series:\n",
    "        result = []\n",
    "        for _, row in X.iterrows():\n",
    "            scores = {k: v for k, v in self.probabilities_vector.items()}\n",
    "            for column, value in row.items():\n",
    "                for category in scores.keys():\n",
    "                    scores[category] *= self.probabilities_table.loc[(column, value), category]\n",
    "            result.append(sorted(scores.items(), key=lambda x: x[1], reverse=True)[0][0])\n",
    "        return pd.Series(result)"
   ],
   "metadata": {
    "collapsed": false,
    "pycharm": {
     "name": "#%%\n"
    }
   }
  },
  {
   "cell_type": "code",
   "execution_count": 3,
   "outputs": [],
   "source": [
    "train_set = pd.read_csv('data/bayes_trainingset.csv', header=None)\n",
    "train_set.columns = ['outlook', 'windy', 'temperature', 'humidity', 'play']"
   ],
   "metadata": {
    "collapsed": false,
    "pycharm": {
     "name": "#%%\n"
    }
   }
  },
  {
   "cell_type": "code",
   "execution_count": 4,
   "outputs": [],
   "source": [
    "model = NaiveBayesClassifier()\n",
    "model.fit(train_set.iloc[:, :-1], train_set.iloc[:, -1])"
   ],
   "metadata": {
    "collapsed": false,
    "pycharm": {
     "name": "#%%\n"
    }
   }
  },
  {
   "cell_type": "code",
   "execution_count": 5,
   "outputs": [
    {
     "data": {
      "text/plain": "<Figure size 936x720 with 2 Axes>",
      "image/png": "[encoded data removed]"
     },
     "metadata": {
      "needs_background": "light"
     },
     "output_type": "display_data"
    }
   ],
   "source": [
    "from sklearn.metrics import confusion_matrix, accuracy_score\n",
    "import seaborn as sns\n",
    "\n",
    "y_true = train_set.play\n",
    "y_predicted = model.predict(train_set.iloc[:, :-1])\n",
    "\n",
    "cm = confusion_matrix(y_true, y_predicted, normalize='true')\n",
    "acc = accuracy_score(y_true, y_predicted)\n",
    "\n",
    "cmdf = pd.DataFrame(cm)\n",
    "cmdf.columns = cmdf.index = [\"Yes\", \"No\"]\n",
    "\n",
    "\n",
    "fig, ax = plt.subplots()\n",
    "fig.set_size_inches(13, 10)\n",
    "sns.heatmap(cmdf, annot=True, fmt='.2%', cmap='Blues', ax=ax)\n",
    "plt.title(f'Model accuracy: {acc:.3%}', fontsize='x-large', y=1.025)\n",
    "plt.xlabel('Predicted label', fontsize='large', labelpad=15)\n",
    "plt.ylabel('True label', fontsize='large', labelpad=15)\n",
    "plt.show()"
   ],
   "metadata": {
    "collapsed": false,
    "pycharm": {
     "name": "#%%\n"
    }
   }
  },
  {
   "cell_type": "code",
   "execution_count": 6,
   "outputs": [],
   "source": [
    "cat_data = train_set.copy(deep=True)\n",
    "for col in cat_data.columns:\n",
    "    cat_data[col] = cat_data[col].astype('category')\n",
    "    series = cat_data[col]\n",
    "    mappings = {k: v for k, v in zip(series.cat.categories, series.cat.codes)}\n",
    "    cat_data[col] = cat_data[col].map(lambda x: mappings[x])\n",
    "\n",
    "cat_data = cat_data.astype(int)"
   ],
   "metadata": {
    "collapsed": false,
    "pycharm": {
     "name": "#%%\n"
    }
   }
  },
  {
   "cell_type": "code",
   "execution_count": 7,
   "outputs": [
    {
     "data": {
      "text/plain": "50"
     },
     "execution_count": 7,
     "metadata": {},
     "output_type": "execute_result"
    }
   ],
   "source": [
    "from sklearn.naive_bayes import BernoulliNB as NB\n",
    "model = NB()\n",
    "model.fit(cat_data.loc[:, 'outlook':], cat_data['play'])\n",
    "sum(model.predict(cat_data.loc[:, 'outlook':]) == cat_data['play'])"
   ],
   "metadata": {
    "collapsed": false,
    "pycharm": {
     "name": "#%%\n"
    }
   }
  }
 ],
 "metadata": {
  "kernelspec": {
   "display_name": "Python 3",
   "language": "python",
   "name": "python3"
  },
  "language_info": {
   "codemirror_mode": {
    "name": "ipython",
    "version": 2
   },
   "file_extension": ".py",
   "mimetype": "text/x-python",
   "name": "python",
   "nbconvert_exporter": "python",
   "pygments_lexer": "ipython2",
   "version": "2.7.6"
  }
 },
 "nbformat": 4,
 "nbformat_minor": 0
}