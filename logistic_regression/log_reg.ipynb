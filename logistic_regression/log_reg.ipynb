{
 "cells": [
  {
   "cell_type": "markdown",
   "metadata": {
    "id": "qHiLnNMqkD_q"
   },
   "source": [
    "# Zadania klasyfikacji - perceptron, regresja logistyczna\n",
    "\n",
    "\n",
    "Proszę nie używać dostępnych w bibliotekach klasyfikatorów.\n"
   ]
  },
  {
   "cell_type": "markdown",
   "metadata": {
    "id": "QVVFcRumljah"
   },
   "source": [
    "## plot_decision_regions"
   ]
  },
  {
   "cell_type": "code",
   "execution_count": 1,
   "metadata": {
    "id": "G9M07Y_5lP9c"
   },
   "outputs": [],
   "source": [
    "from matplotlib.colors import ListedColormap\n",
    "import matplotlib.pyplot as plt\n",
    "import numpy as np\n",
    "\n",
    "\n",
    "def plot_decision_regions(X, y, classifier, test_idx=None, resolution=0.02):\n",
    "\n",
    "        # konfiguruje generator znaczników i mapę kolorów\n",
    "        markers = ('s', 'x', 'o', '^', 'v')\n",
    "        colors = ('red', 'blue', 'lightgreen', 'gray', 'cyan')\n",
    "        cmap = ListedColormap(colors[:len(np.unique(y))])\n",
    "\n",
    "        # rysuje wykres powierzchni decyzyjnej\n",
    "        x1_min, x1_max = X[:, 0].min() - 1, X[:, 0].max() + 1\n",
    "        x2_min, x2_max = X[:, 1].min() - 1, X[:, 1].max() + 1\n",
    "        xx1, xx2 = np.meshgrid(np.arange(x1_min, x1_max, resolution), np.arange(x2_min, x2_max, resolution))\n",
    "        Z = classifier.predict(np.array([xx1.ravel(), xx2.ravel()]).T)\n",
    "        Z = Z.reshape(xx1.shape)\n",
    "        plt.contourf(xx1, xx2, Z, alpha=0.3, cmap=cmap)\n",
    "        plt.xlim(xx1.min(), xx1.max())\n",
    "        plt.ylim(xx2.min(), xx2.max())\n",
    "\n",
    "        # rysuje wykres wszystkich próbek\n",
    "        for idx, cl in enumerate(np.unique(y)):\n",
    "            plt.scatter(x=X[y == cl, 0], y=X[y == cl, 1], alpha=0.8, c=cmap(idx), marker=markers[idx], label=cl, edgecolor='black')\n"
   ]
  },
  {
   "cell_type": "markdown",
   "metadata": {
    "id": "Z6Mz60W_kHs9"
   },
   "source": [
    "## 1. Używając perceptronów napisz klasyfikator wielo-klasowy (klasyfikujący 3 lub więcej klas). Dla każdej z klas użyj klasyfikatora binarnego. Przykład klasyfikatora binarnego znajduje się poniżej."
   ]
  },
  {
   "cell_type": "code",
   "execution_count": 2,
   "metadata": {
    "id": "RjZX4wn8ka9M"
   },
   "outputs": [],
   "source": [
    "import matplotlib.pyplot as plt\n",
    "import numpy as np\n",
    "from sklearn.model_selection import train_test_split\n",
    "from sklearn import datasets\n",
    "\n",
    "class Perceptron(object):\n",
    "\n",
    "    # Konstruktor, podajemy współczynik uczenia sie oraz ilość epok\n",
    "    def __init__(self, eta=0.01, n_iter=10):\n",
    "        self.eta = eta\n",
    "        self.n_iter = n_iter\n",
    "\n",
    "    def fit(self, X, y):\n",
    "        self.w_ = np.zeros(1+ X.shape[1])\n",
    "        self.errors_ = []\n",
    "\n",
    "        for _ in range(self.n_iter):\n",
    "            errors = 0\n",
    "            for xi, target in zip(X,y):\n",
    "                update = self.eta * (target - self.predict(xi))\n",
    "                self.w_[1:] += update *xi\n",
    "                self.w_[0] += update\n",
    "                errors += int(update != 0.0)\n",
    "            self.errors_.append(errors)\n",
    "        return self\n",
    "\n",
    "    def net_input(self, X):\n",
    "        return np.dot(X, self.w_[1:]) + self.w_[0]\n",
    "\n",
    "    def predict(self, X):\n",
    "        return np.where(self.net_input(X) >= 0.0, 1, -1)"
   ]
  },
  {
   "cell_type": "code",
   "execution_count": 3,
   "metadata": {},
   "outputs": [
    {
     "name": "stderr",
     "output_type": "stream",
     "text": [
      "*c* argument looks like a single numeric RGB or RGBA sequence, which should be avoided as value-mapping will have precedence in case its length matches with *x* & *y*.  Please use the *color* keyword-argument or provide a 2D array with a single row if you intend to specify the same RGB or RGBA value for all points.\n",
      "*c* argument looks like a single numeric RGB or RGBA sequence, which should be avoided as value-mapping will have precedence in case its length matches with *x* & *y*.  Please use the *color* keyword-argument or provide a 2D array with a single row if you intend to specify the same RGB or RGBA value for all points.\n",
      "/var/folders/kv/s9l8zj153pz4kzhq1rjwl_q80000gn/T/ipykernel_38926/2382359667.py:25: UserWarning: You passed a edgecolor/edgecolors ('black') for an unfilled marker ('x').  Matplotlib is ignoring the edgecolor in favor of the facecolor.  This behavior may change in the future.\n",
      "  plt.scatter(x=X[y == cl, 0], y=X[y == cl, 1], alpha=0.8, c=cmap(idx), marker=markers[idx], label=cl, edgecolor='black')\n",
      "*c* argument looks like a single numeric RGB or RGBA sequence, which should be avoided as value-mapping will have precedence in case its length matches with *x* & *y*.  Please use the *color* keyword-argument or provide a 2D array with a single row if you intend to specify the same RGB or RGBA value for all points.\n"
     ]
    },
    {
     "data": {
      "image/png": "[encoded data removed]",
      "text/plain": [
       "<Figure size 432x288 with 1 Axes>"
      ]
     },
     "metadata": {
      "needs_background": "light"
     },
     "output_type": "display_data"
    }
   ],
   "source": [
    "iris = datasets.load_iris()\n",
    "X = iris.data[:, [2, 3]]\n",
    "y = iris.target\n",
    "# podział danych na testowe i treningowe\n",
    "X_train, X_test, y_train, y_test = train_test_split(X, y, test_size=0.3, random_state=1, stratify=y)\n",
    "\n",
    "\n",
    "# selekcja danych z klas 0 i 1\n",
    "X_train_01 = np.copy(X_train)\n",
    "y_train_01 = np.copy(y_train)\n",
    "X_train_02 = np.copy(X_train)\n",
    "y_train_02 = np.copy(y_train)\n",
    "\n",
    "# w perceptronie wyjście jest albo 1 albo -1    \n",
    "y_train_01[(y_train != 0)] = -1\n",
    "y_train_01[(y_train == 0)] = 1\n",
    "y_train_02[(y_train == 2)] = -1\n",
    "y_train_02[(y_train != 2)] = 1\n",
    "\n",
    "ppn1 = Perceptron(eta=0.1, n_iter=400)\n",
    "ppn2 = Perceptron(eta=0.1, n_iter=400)\n",
    "# uczenie modelu\n",
    "ppn1.fit(X_train_01, y_train_01)\n",
    "ppn2.fit(X_train_02, y_train_02)\n",
    "\n",
    "class ChainedPerceptron:\n",
    "    def __init__(self, ppn1, ppn2):\n",
    "        self.ppn1 = ppn1\n",
    "        self.ppn2 = ppn2\n",
    "\n",
    "    def predict(self, X):\n",
    "        pred1 = self.ppn1.predict(X)\n",
    "        pred2 = self.ppn2.predict(X)\n",
    "        pred1[pred1 == 1] = 0\n",
    "        pred1[pred1 == -1] = 1\n",
    "        pred2[pred2 == 1] = 0\n",
    "        pred2[pred2 == -1] = 1\n",
    "        return pred1 + pred2\n",
    "\n",
    "# wyświetla wykres\n",
    "plot_decision_regions(X=X_train, y=y_train, classifier=ChainedPerceptron(ppn1, ppn2))\n",
    "plt.xlabel(r'$x_1$')\n",
    "plt.ylabel(r'$x_2$')\n",
    "plt.legend(loc='upper left')\n",
    "plt.show()"
   ]
  },
  {
   "cell_type": "markdown",
   "metadata": {
    "id": "da76RT4AkMY4"
   },
   "source": [
    "## 2. Napisz klasyfikator wielo-klasowy przy użyciu regresji logistycznej. Dla każdej z klas użyj klasyfikatora binarnego. Przykład regresji logistycznej dla przypadku dwuklasowego znajduje się poniżej."
   ]
  },
  {
   "cell_type": "code",
   "execution_count": 4,
   "metadata": {
    "id": "t1xDlUgnlCxL"
   },
   "outputs": [],
   "source": [
    "import numpy as np\n",
    "import matplotlib.pylab as plt\n",
    "from sklearn import datasets\n",
    "from sklearn.model_selection import train_test_split\n",
    "\n",
    "\n",
    "class LogisticRegressionGD(object):\n",
    "    def __init__(self, eta=0.05, n_iter=100, random_state=1):\n",
    "        self.eta = eta\n",
    "        self.n_iter = n_iter\n",
    "        self.random_state = random_state\n",
    "\n",
    "    def fit(self, X, y):\n",
    "        rgen = np.random.RandomState(self.random_state)\n",
    "        self.w_ = rgen.normal(loc=0.0, scale=0.01, size=1 + X.shape[1])\n",
    "        self.cost_ = []\n",
    "\n",
    "        for i in range(self.n_iter):\n",
    "            net_input = self.net_input(X)\n",
    "            output = self.activation(net_input)\n",
    "            errors = (y - output)\n",
    "            self.w_[1:] += self.eta * X.T.dot(errors)\n",
    "            self.w_[0] += self.eta * errors.sum()\n",
    "            cost = (-y.dot(np.log(output)) - ((1 - y).dot(np.log(1 - output))))\n",
    "            self.cost_.append(cost)\n",
    "        return self\n",
    "\n",
    "    def net_input(self, X):\n",
    "        return np.dot(X, self.w_[1:]) + self.w_[0]\n",
    "\n",
    "    def activation(self, z):\n",
    "        return 1. / (1. + np.exp(-np.clip(z, -250, 250)))\n",
    "\n",
    "    def predict(self, X):\n",
    "        return np.where(self.net_input(X) >= 0.0, 1, 0)"
   ]
  },
  {
   "cell_type": "code",
   "execution_count": 5,
   "metadata": {},
   "outputs": [
    {
     "name": "stderr",
     "output_type": "stream",
     "text": [
      "/var/folders/kv/s9l8zj153pz4kzhq1rjwl_q80000gn/T/ipykernel_38926/2911648234.py:24: RuntimeWarning: divide by zero encountered in log\n",
      "  cost = (-y.dot(np.log(output)) - ((1 - y).dot(np.log(1 - output))))\n",
      "*c* argument looks like a single numeric RGB or RGBA sequence, which should be avoided as value-mapping will have precedence in case its length matches with *x* & *y*.  Please use the *color* keyword-argument or provide a 2D array with a single row if you intend to specify the same RGB or RGBA value for all points.\n",
      "*c* argument looks like a single numeric RGB or RGBA sequence, which should be avoided as value-mapping will have precedence in case its length matches with *x* & *y*.  Please use the *color* keyword-argument or provide a 2D array with a single row if you intend to specify the same RGB or RGBA value for all points.\n",
      "/var/folders/kv/s9l8zj153pz4kzhq1rjwl_q80000gn/T/ipykernel_38926/2382359667.py:25: UserWarning: You passed a edgecolor/edgecolors ('black') for an unfilled marker ('x').  Matplotlib is ignoring the edgecolor in favor of the facecolor.  This behavior may change in the future.\n",
      "  plt.scatter(x=X[y == cl, 0], y=X[y == cl, 1], alpha=0.8, c=cmap(idx), marker=markers[idx], label=cl, edgecolor='black')\n",
      "*c* argument looks like a single numeric RGB or RGBA sequence, which should be avoided as value-mapping will have precedence in case its length matches with *x* & *y*.  Please use the *color* keyword-argument or provide a 2D array with a single row if you intend to specify the same RGB or RGBA value for all points.\n"
     ]
    },
    {
     "data": {
      "image/png": "[encoded data removed]",
      "text/plain": [
       "<Figure size 432x288 with 1 Axes>"
      ]
     },
     "metadata": {
      "needs_background": "light"
     },
     "output_type": "display_data"
    }
   ],
   "source": [
    "iris = datasets.load_iris()\n",
    "X = iris.data[:, [2, 3]]\n",
    "y = iris.target\n",
    "X_train, X_test, y_train, y_test = train_test_split(X, y, test_size=0.3, random_state=1, stratify=y)\n",
    "\n",
    "\n",
    "# selekcja danych z klas 0 i 1\n",
    "X_train_01 = np.copy(X_train)\n",
    "y_train_01 = np.copy(y_train)\n",
    "X_train_02 = np.copy(X_train)\n",
    "y_train_02 = np.copy(y_train)\n",
    "\n",
    "# w perceptronie wyjście jest albo 1 albo -1\n",
    "y_train_01[(y_train != 0)] = 1\n",
    "y_train_02[(y_train == 2)] = 1\n",
    "y_train_02[(y_train != 2)] = 0\n",
    "\n",
    "lrgd1 = LogisticRegressionGD(eta=0.05, n_iter=10000, random_state=1)\n",
    "lrgd2 = LogisticRegressionGD(eta=0.05, n_iter=10000, random_state=1)\n",
    "# uczenie modelu\n",
    "lrgd1.fit(X_train_01, y_train_01)\n",
    "lrgd2.fit(X_train_02, y_train_02)\n",
    "\n",
    "class ChainedLR:\n",
    "    def __init__(self, lrgd1, lrgd2):\n",
    "        self.lrgd1 = lrgd1\n",
    "        self.lrgd2 = lrgd2\n",
    "\n",
    "    def predict(self, X):\n",
    "        pred1 = self.lrgd1.predict(X)\n",
    "        pred2 = self.lrgd2.predict(X)\n",
    "        return pred1 + pred2\n",
    "\n",
    "plot_decision_regions(X=X_train_01, y=y_train, classifier=ChainedLR(lrgd1, lrgd2))\n",
    "plt.xlabel(r'$x_1$')\n",
    "plt.ylabel(r'$x_2$')\n",
    "plt.legend(loc='upper left')\n",
    "plt.show()"
   ]
  },
  {
   "cell_type": "markdown",
   "metadata": {
    "id": "uGyNbcE1kRbA"
   },
   "source": [
    "## 3. Dla regresji logistycznej napisz metodę wypisującą prawdopodobieństwo przynależności próbki (próbek) do danej klasy (klas)."
   ]
  },
  {
   "cell_type": "code",
   "execution_count": 7,
   "metadata": {
    "id": "htt4Kht-i2pO"
   },
   "outputs": [
    {
     "name": "stderr",
     "output_type": "stream",
     "text": [
      "/var/folders/kv/s9l8zj153pz4kzhq1rjwl_q80000gn/T/ipykernel_38926/2911648234.py:24: RuntimeWarning: divide by zero encountered in log\n",
      "  cost = (-y.dot(np.log(output)) - ((1 - y).dot(np.log(1 - output))))\n"
     ]
    },
    {
     "data": {
      "text/plain": "array([[9.999e-01, 1.000e-04, 0.000e+00, 0.000e+00],\n       [9.997e-01, 3.000e-04, 0.000e+00, 0.000e+00],\n       [0.000e+00, 0.000e+00, 1.000e+00, 2.000e+00],\n       [0.000e+00, 0.000e+00, 1.000e+00, 2.000e+00],\n       [1.000e+00, 0.000e+00, 0.000e+00, 0.000e+00],\n       [0.000e+00, 0.000e+00, 1.000e+00, 2.000e+00],\n       [0.000e+00, 0.000e+00, 1.000e+00, 2.000e+00],\n       [1.000e+00, 0.000e+00, 0.000e+00, 0.000e+00],\n       [0.000e+00, 0.000e+00, 1.000e+00, 2.000e+00],\n       [0.000e+00, 9.989e-01, 1.100e-03, 1.000e+00],\n       [2.900e-03, 9.971e-01, 0.000e+00, 1.000e+00],\n       [0.000e+00, 1.000e+00, 0.000e+00, 1.000e+00],\n       [1.000e+00, 0.000e+00, 0.000e+00, 0.000e+00],\n       [0.000e+00, 9.992e-01, 8.000e-04, 1.000e+00],\n       [0.000e+00, 1.000e+00, 0.000e+00, 1.000e+00],\n       [0.000e+00, 1.000e-04, 9.999e-01, 2.000e+00],\n       [9.993e-01, 7.000e-04, 0.000e+00, 0.000e+00],\n       [1.000e-03, 9.990e-01, 0.000e+00, 1.000e+00],\n       [0.000e+00, 1.000e+00, 0.000e+00, 1.000e+00],\n       [9.998e-01, 2.000e-04, 0.000e+00, 0.000e+00],\n       [0.000e+00, 2.230e-02, 9.777e-01, 2.000e+00],\n       [0.000e+00, 0.000e+00, 1.000e+00, 2.000e+00],\n       [0.000e+00, 9.925e-01, 7.500e-03, 1.000e+00],\n       [0.000e+00, 9.997e-01, 3.000e-04, 1.000e+00],\n       [1.000e-04, 9.999e-01, 0.000e+00, 1.000e+00],\n       [0.000e+00, 0.000e+00, 1.000e+00, 2.000e+00],\n       [0.000e+00, 9.812e-01, 1.880e-02, 1.000e+00],\n       [0.000e+00, 6.000e-04, 9.994e-01, 2.000e+00],\n       [0.000e+00, 0.000e+00, 1.000e+00, 2.000e+00],\n       [0.000e+00, 0.000e+00, 1.000e+00, 2.000e+00],\n       [0.000e+00, 1.000e+00, 0.000e+00, 1.000e+00],\n       [9.996e-01, 4.000e-04, 0.000e+00, 0.000e+00],\n       [0.000e+00, 0.000e+00, 1.000e+00, 2.000e+00],\n       [0.000e+00, 4.000e-04, 9.996e-01, 2.000e+00],\n       [0.000e+00, 2.230e-02, 9.777e-01, 2.000e+00],\n       [0.000e+00, 0.000e+00, 1.000e+00, 2.000e+00],\n       [0.000e+00, 9.998e-01, 2.000e-04, 1.000e+00],\n       [0.000e+00, 0.000e+00, 1.000e+00, 2.000e+00],\n       [0.000e+00, 0.000e+00, 1.000e+00, 2.000e+00],\n       [9.998e-01, 2.000e-04, 0.000e+00, 0.000e+00],\n       [0.000e+00, 6.400e-03, 9.936e-01, 2.000e+00],\n       [9.999e-01, 1.000e-04, 0.000e+00, 0.000e+00],\n       [0.000e+00, 6.060e-02, 9.394e-01, 2.000e+00],\n       [9.968e-01, 3.200e-03, 0.000e+00, 0.000e+00],\n       [1.000e+00, 0.000e+00, 0.000e+00, 0.000e+00],\n       [0.000e+00, 4.499e-01, 5.501e-01, 2.000e+00],\n       [9.999e-01, 1.000e-04, 0.000e+00, 0.000e+00],\n       [1.000e+00, 0.000e+00, 0.000e+00, 0.000e+00],\n       [0.000e+00, 0.000e+00, 1.000e+00, 2.000e+00],\n       [0.000e+00, 9.121e-01, 8.790e-02, 1.000e+00],\n       [9.995e-01, 5.000e-04, 0.000e+00, 0.000e+00],\n       [1.000e-03, 9.990e-01, 0.000e+00, 1.000e+00],\n       [1.000e-04, 9.999e-01, 0.000e+00, 1.000e+00],\n       [9.999e-01, 1.000e-04, 0.000e+00, 0.000e+00],\n       [9.999e-01, 1.000e-04, 0.000e+00, 0.000e+00],\n       [9.999e-01, 1.000e-04, 0.000e+00, 0.000e+00],\n       [4.000e-04, 9.996e-01, 0.000e+00, 1.000e+00],\n       [0.000e+00, 0.000e+00, 1.000e+00, 2.000e+00],\n       [9.999e-01, 1.000e-04, 0.000e+00, 0.000e+00],\n       [0.000e+00, 4.499e-01, 5.501e-01, 2.000e+00],\n       [1.000e+00, 0.000e+00, 0.000e+00, 0.000e+00],\n       [0.000e+00, 9.632e-01, 3.680e-02, 1.000e+00],\n       [0.000e+00, 0.000e+00, 1.000e+00, 2.000e+00],\n       [9.998e-01, 2.000e-04, 0.000e+00, 0.000e+00],\n       [9.999e-01, 1.000e-04, 0.000e+00, 0.000e+00],\n       [0.000e+00, 1.000e+00, 0.000e+00, 1.000e+00],\n       [0.000e+00, 1.000e-04, 9.999e-01, 2.000e+00],\n       [1.000e-04, 9.999e-01, 0.000e+00, 1.000e+00],\n       [0.000e+00, 1.000e+00, 0.000e+00, 1.000e+00],\n       [0.000e+00, 2.230e-02, 9.777e-01, 2.000e+00],\n       [0.000e+00, 0.000e+00, 1.000e+00, 2.000e+00],\n       [0.000e+00, 9.925e-01, 7.500e-03, 1.000e+00],\n       [0.000e+00, 9.925e-01, 7.500e-03, 1.000e+00],\n       [0.000e+00, 0.000e+00, 1.000e+00, 2.000e+00],\n       [0.000e+00, 0.000e+00, 1.000e+00, 2.000e+00],\n       [0.000e+00, 9.947e-01, 5.300e-03, 1.000e+00],\n       [9.996e-01, 4.000e-04, 0.000e+00, 0.000e+00],\n       [9.976e-01, 2.400e-03, 0.000e+00, 0.000e+00],\n       [0.000e+00, 0.000e+00, 1.000e+00, 2.000e+00],\n       [0.000e+00, 1.260e-02, 9.874e-01, 2.000e+00],\n       [0.000e+00, 0.000e+00, 1.000e+00, 2.000e+00],\n       [0.000e+00, 1.868e-01, 8.132e-01, 2.000e+00],\n       [9.999e-01, 1.000e-04, 0.000e+00, 0.000e+00],\n       [0.000e+00, 1.000e+00, 0.000e+00, 1.000e+00],\n       [0.000e+00, 0.000e+00, 1.000e+00, 2.000e+00],\n       [0.000e+00, 0.000e+00, 1.000e+00, 2.000e+00],\n       [9.998e-01, 2.000e-04, 0.000e+00, 0.000e+00],\n       [9.999e-01, 1.000e-04, 0.000e+00, 0.000e+00],\n       [0.000e+00, 0.000e+00, 1.000e+00, 2.000e+00],\n       [9.999e-01, 1.000e-04, 0.000e+00, 0.000e+00],\n       [0.000e+00, 0.000e+00, 1.000e+00, 2.000e+00],\n       [1.000e-04, 9.999e-01, 0.000e+00, 1.000e+00],\n       [0.000e+00, 1.000e+00, 0.000e+00, 1.000e+00],\n       [0.000e+00, 1.000e+00, 0.000e+00, 1.000e+00],\n       [1.000e+00, 0.000e+00, 0.000e+00, 0.000e+00],\n       [0.000e+00, 0.000e+00, 1.000e+00, 2.000e+00],\n       [0.000e+00, 9.999e-01, 1.000e-04, 1.000e+00],\n       [1.000e+00, 0.000e+00, 0.000e+00, 0.000e+00],\n       [9.999e-01, 1.000e-04, 0.000e+00, 0.000e+00],\n       [0.000e+00, 9.000e-03, 9.910e-01, 2.000e+00],\n       [9.999e-01, 1.000e-04, 0.000e+00, 0.000e+00],\n       [0.000e+00, 1.000e+00, 0.000e+00, 1.000e+00],\n       [9.993e-01, 7.000e-04, 0.000e+00, 0.000e+00],\n       [9.999e-01, 1.000e-04, 0.000e+00, 0.000e+00],\n       [1.000e+00, 0.000e+00, 0.000e+00, 0.000e+00]])"
     },
     "execution_count": 7,
     "metadata": {},
     "output_type": "execute_result"
    }
   ],
   "source": [
    "iris = datasets.load_iris()\n",
    "X = iris.data[:, [2, 3]]\n",
    "y = iris.target\n",
    "X_train, X_test, y_train, y_test = train_test_split(X, y, test_size=0.3, random_state=1, stratify=y)\n",
    "\n",
    "\n",
    "# selekcja danych z klas 0 i 1\n",
    "X_train_01 = np.copy(X_train)\n",
    "y_train_01 = np.copy(y_train)\n",
    "X_train_02 = np.copy(X_train)\n",
    "y_train_02 = np.copy(y_train)\n",
    "\n",
    "# w perceptronie wyjście jest albo 1 albo -1\n",
    "y_train_01[(y_train != 0)] = 1\n",
    "y_train_02[(y_train == 2)] = 1\n",
    "y_train_02[(y_train != 2)] = 0\n",
    "\n",
    "lrgd1 = LogisticRegressionGD(eta=0.05, n_iter=10000, random_state=1)\n",
    "lrgd2 = LogisticRegressionGD(eta=0.05, n_iter=10000, random_state=1)\n",
    "# uczenie modelu\n",
    "lrgd1.fit(X_train_01, y_train_01)\n",
    "lrgd2.fit(X_train_02, y_train_02)\n",
    "#w regresji logarytmicznej wyjście przyjmuje wartości 0 lub 1 (prawdopodobieństwa)\n",
    "\n",
    "def get_probs(X):\n",
    "    net1 = lrgd1.net_input(X)\n",
    "    net2 = lrgd2.net_input(X)\n",
    "    net1_norm = lrgd1.activation(net1)\n",
    "    net2_norm = lrgd2.activation(net2)\n",
    "    return np.round(\n",
    "        np.array([\n",
    "            1 - net1_norm,\n",
    "            np.abs(net1_norm - net2_norm),\n",
    "            net2_norm,\n",
    "            ChainedLR(lrgd1, lrgd2).predict(X)\n",
    "        ]),\n",
    "        4\n",
    "    ).T\n",
    "\n",
    "get_probs(X_train)\n"
   ]
  },
  {
   "cell_type": "markdown",
   "metadata": {
    "id": "HST-rwkQZeXi"
   },
   "source": [
    "# Program"
   ]
  }
 ],
 "metadata": {
  "colab": {
   "provenance": []
  },
  "kernelspec": {
   "display_name": "Python 3 (ipykernel)",
   "language": "python",
   "name": "python3"
  },
  "language_info": {
   "codemirror_mode": {
    "name": "ipython",
    "version": 3
   },
   "file_extension": ".py",
   "mimetype": "text/x-python",
   "name": "python",
   "nbconvert_exporter": "python",
   "pygments_lexer": "ipython3",
   "version": "3.9.10"
  }
 },
 "nbformat": 4,
 "nbformat_minor": 1
}
