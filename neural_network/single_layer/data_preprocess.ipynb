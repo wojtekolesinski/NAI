{
 "cells": [
  {
   "cell_type": "code",
   "execution_count": 1,
   "metadata": {
    "collapsed": true
   },
   "outputs": [],
   "source": [
    "from xml.etree import ElementTree\n",
    "from string import ascii_lowercase\n",
    "import os\n",
    "import pandas as pd"
   ]
  },
  {
   "cell_type": "code",
   "execution_count": 2,
   "outputs": [],
   "source": [
    "# parsing xml files to get bible as a text file\n",
    "for lang in ['English', 'German', 'French', 'Polish', 'Czech', 'Slovak', 'Dutch', 'Finnish', 'Hungarian']:\n",
    "    if f'{lang}.txt' in os.listdir('data/parsed'):\n",
    "        continue\n",
    "\n",
    "    root = ElementTree.parse(f'data/bibles/{lang}.xml')\n",
    "    print(lang)\n",
    "    with open(f'data/parsed/{lang}.txt', 'w') as out:\n",
    "        for line in root.iter('seg'):\n",
    "            try:\n",
    "                out.write(line.text.strip() + '\\n')\n",
    "            except AttributeError:\n",
    "                pass\n"
   ],
   "metadata": {
    "collapsed": false,
    "pycharm": {
     "name": "#%%\n"
    }
   }
  },
  {
   "cell_type": "code",
   "execution_count": 3,
   "outputs": [],
   "source": [
    "for path in os.listdir('data/parsed'):\n",
    "    lang = path.split('.')[0]\n",
    "    if f'{lang}.csv' in os.listdir('data/processed'):\n",
    "        continue\n",
    "\n",
    "    print(path)\n",
    "    with open(f'data/parsed/{path}', 'r') as file:\n",
    "        data = pd.DataFrame({'text': file.readlines(), 'lang': lang})\n",
    "\n",
    "        # leaving only ascii letters\n",
    "        data['letters'] = data.text.str.lower().str.strip()#.str.replace('(?![a-z]).', '', regex=True)\n",
    "        data['letters'] = data.letters.map(lambda y: ''.join(filter(lambda x: x.isalpha(), y)))\n",
    "        # making a vector of number of occurrences for each letter\n",
    "        for letter in ascii_lowercase:\n",
    "            data[letter] = data.letters.str.count(letter)\n",
    "\n",
    "        # changing counts to probabilities\n",
    "        lengths = data.letters.str.len()\n",
    "        data.loc[:, 'a':].apply(lambda x: x / lengths, axis=0)\n",
    "\n",
    "        data.to_csv(f'data/processed/{lang}.csv', index=False) # saving as csv"
   ],
   "metadata": {
    "collapsed": false,
    "pycharm": {
     "name": "#%%\n"
    }
   }
  }
 ],
 "metadata": {
  "kernelspec": {
   "display_name": "Python 3",
   "language": "python",
   "name": "python3"
  },
  "language_info": {
   "codemirror_mode": {
    "name": "ipython",
    "version": 2
   },
   "file_extension": ".py",
   "mimetype": "text/x-python",
   "name": "python",
   "nbconvert_exporter": "python",
   "pygments_lexer": "ipython2",
   "version": "2.7.6"
  }
 },
 "nbformat": 4,
 "nbformat_minor": 0
}