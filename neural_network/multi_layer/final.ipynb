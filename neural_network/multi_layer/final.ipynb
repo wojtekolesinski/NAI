{
 "cells": [
  {
   "cell_type": "code",
   "execution_count": 1,
   "outputs": [
    {
     "name": "stderr",
     "output_type": "stream",
     "text": [
      "/Users/wojtek/miniforge3/lib/python3.9/site-packages/requests/__init__.py:102: RequestsDependencyWarning: urllib3 (1.26.9) or chardet (5.0.0)/charset_normalizer (2.0.12) doesn't match a supported version!\n",
      "  warnings.warn(\"urllib3 ({}) or chardet ({})/charset_normalizer ({}) doesn't match a supported \"\n"
     ]
    }
   ],
   "source": [
    "import numpy as np\n",
    "import matplotlib.pyplot as plt\n",
    "from sklearn.model_selection import train_test_split\n",
    "from sklearn import datasets\n",
    "from tensorflow.keras.utils import to_categorical"
   ],
   "metadata": {
    "collapsed": false
   }
  },
  {
   "cell_type": "code",
   "execution_count": 4,
   "outputs": [
    {
     "data": {
      "text/plain": "[(array([5.1, 3.5, 1.4, 0.2]), array([1., 0., 0.], dtype=float32)),\n (array([4.9, 3. , 1.4, 0.2]), array([1., 0., 0.], dtype=float32)),\n (array([4.7, 3.2, 1.3, 0.2]), array([1., 0., 0.], dtype=float32)),\n (array([4.6, 3.1, 1.5, 0.2]), array([1., 0., 0.], dtype=float32)),\n (array([5. , 3.6, 1.4, 0.2]), array([1., 0., 0.], dtype=float32)),\n (array([5.4, 3.9, 1.7, 0.4]), array([1., 0., 0.], dtype=float32)),\n (array([4.6, 3.4, 1.4, 0.3]), array([1., 0., 0.], dtype=float32)),\n (array([5. , 3.4, 1.5, 0.2]), array([1., 0., 0.], dtype=float32)),\n (array([4.4, 2.9, 1.4, 0.2]), array([1., 0., 0.], dtype=float32)),\n (array([4.9, 3.1, 1.5, 0.1]), array([1., 0., 0.], dtype=float32)),\n (array([5.4, 3.7, 1.5, 0.2]), array([1., 0., 0.], dtype=float32)),\n (array([4.8, 3.4, 1.6, 0.2]), array([1., 0., 0.], dtype=float32)),\n (array([4.8, 3. , 1.4, 0.1]), array([1., 0., 0.], dtype=float32)),\n (array([4.3, 3. , 1.1, 0.1]), array([1., 0., 0.], dtype=float32)),\n (array([5.8, 4. , 1.2, 0.2]), array([1., 0., 0.], dtype=float32)),\n (array([5.7, 4.4, 1.5, 0.4]), array([1., 0., 0.], dtype=float32)),\n (array([5.4, 3.9, 1.3, 0.4]), array([1., 0., 0.], dtype=float32)),\n (array([5.1, 3.5, 1.4, 0.3]), array([1., 0., 0.], dtype=float32)),\n (array([5.7, 3.8, 1.7, 0.3]), array([1., 0., 0.], dtype=float32)),\n (array([5.1, 3.8, 1.5, 0.3]), array([1., 0., 0.], dtype=float32)),\n (array([5.4, 3.4, 1.7, 0.2]), array([1., 0., 0.], dtype=float32)),\n (array([5.1, 3.7, 1.5, 0.4]), array([1., 0., 0.], dtype=float32)),\n (array([4.6, 3.6, 1. , 0.2]), array([1., 0., 0.], dtype=float32)),\n (array([5.1, 3.3, 1.7, 0.5]), array([1., 0., 0.], dtype=float32)),\n (array([4.8, 3.4, 1.9, 0.2]), array([1., 0., 0.], dtype=float32)),\n (array([5. , 3. , 1.6, 0.2]), array([1., 0., 0.], dtype=float32)),\n (array([5. , 3.4, 1.6, 0.4]), array([1., 0., 0.], dtype=float32)),\n (array([5.2, 3.5, 1.5, 0.2]), array([1., 0., 0.], dtype=float32)),\n (array([5.2, 3.4, 1.4, 0.2]), array([1., 0., 0.], dtype=float32)),\n (array([4.7, 3.2, 1.6, 0.2]), array([1., 0., 0.], dtype=float32)),\n (array([4.8, 3.1, 1.6, 0.2]), array([1., 0., 0.], dtype=float32)),\n (array([5.4, 3.4, 1.5, 0.4]), array([1., 0., 0.], dtype=float32)),\n (array([5.2, 4.1, 1.5, 0.1]), array([1., 0., 0.], dtype=float32)),\n (array([5.5, 4.2, 1.4, 0.2]), array([1., 0., 0.], dtype=float32)),\n (array([4.9, 3.1, 1.5, 0.2]), array([1., 0., 0.], dtype=float32)),\n (array([5. , 3.2, 1.2, 0.2]), array([1., 0., 0.], dtype=float32)),\n (array([5.5, 3.5, 1.3, 0.2]), array([1., 0., 0.], dtype=float32)),\n (array([4.9, 3.6, 1.4, 0.1]), array([1., 0., 0.], dtype=float32)),\n (array([4.4, 3. , 1.3, 0.2]), array([1., 0., 0.], dtype=float32)),\n (array([5.1, 3.4, 1.5, 0.2]), array([1., 0., 0.], dtype=float32)),\n (array([5. , 3.5, 1.3, 0.3]), array([1., 0., 0.], dtype=float32)),\n (array([4.5, 2.3, 1.3, 0.3]), array([1., 0., 0.], dtype=float32)),\n (array([4.4, 3.2, 1.3, 0.2]), array([1., 0., 0.], dtype=float32)),\n (array([5. , 3.5, 1.6, 0.6]), array([1., 0., 0.], dtype=float32)),\n (array([5.1, 3.8, 1.9, 0.4]), array([1., 0., 0.], dtype=float32)),\n (array([4.8, 3. , 1.4, 0.3]), array([1., 0., 0.], dtype=float32)),\n (array([5.1, 3.8, 1.6, 0.2]), array([1., 0., 0.], dtype=float32)),\n (array([4.6, 3.2, 1.4, 0.2]), array([1., 0., 0.], dtype=float32)),\n (array([5.3, 3.7, 1.5, 0.2]), array([1., 0., 0.], dtype=float32)),\n (array([5. , 3.3, 1.4, 0.2]), array([1., 0., 0.], dtype=float32)),\n (array([7. , 3.2, 4.7, 1.4]), array([0., 1., 0.], dtype=float32)),\n (array([6.4, 3.2, 4.5, 1.5]), array([0., 1., 0.], dtype=float32)),\n (array([6.9, 3.1, 4.9, 1.5]), array([0., 1., 0.], dtype=float32)),\n (array([5.5, 2.3, 4. , 1.3]), array([0., 1., 0.], dtype=float32)),\n (array([6.5, 2.8, 4.6, 1.5]), array([0., 1., 0.], dtype=float32)),\n (array([5.7, 2.8, 4.5, 1.3]), array([0., 1., 0.], dtype=float32)),\n (array([6.3, 3.3, 4.7, 1.6]), array([0., 1., 0.], dtype=float32)),\n (array([4.9, 2.4, 3.3, 1. ]), array([0., 1., 0.], dtype=float32)),\n (array([6.6, 2.9, 4.6, 1.3]), array([0., 1., 0.], dtype=float32)),\n (array([5.2, 2.7, 3.9, 1.4]), array([0., 1., 0.], dtype=float32)),\n (array([5. , 2. , 3.5, 1. ]), array([0., 1., 0.], dtype=float32)),\n (array([5.9, 3. , 4.2, 1.5]), array([0., 1., 0.], dtype=float32)),\n (array([6. , 2.2, 4. , 1. ]), array([0., 1., 0.], dtype=float32)),\n (array([6.1, 2.9, 4.7, 1.4]), array([0., 1., 0.], dtype=float32)),\n (array([5.6, 2.9, 3.6, 1.3]), array([0., 1., 0.], dtype=float32)),\n (array([6.7, 3.1, 4.4, 1.4]), array([0., 1., 0.], dtype=float32)),\n (array([5.6, 3. , 4.5, 1.5]), array([0., 1., 0.], dtype=float32)),\n (array([5.8, 2.7, 4.1, 1. ]), array([0., 1., 0.], dtype=float32)),\n (array([6.2, 2.2, 4.5, 1.5]), array([0., 1., 0.], dtype=float32)),\n (array([5.6, 2.5, 3.9, 1.1]), array([0., 1., 0.], dtype=float32)),\n (array([5.9, 3.2, 4.8, 1.8]), array([0., 1., 0.], dtype=float32)),\n (array([6.1, 2.8, 4. , 1.3]), array([0., 1., 0.], dtype=float32)),\n (array([6.3, 2.5, 4.9, 1.5]), array([0., 1., 0.], dtype=float32)),\n (array([6.1, 2.8, 4.7, 1.2]), array([0., 1., 0.], dtype=float32)),\n (array([6.4, 2.9, 4.3, 1.3]), array([0., 1., 0.], dtype=float32)),\n (array([6.6, 3. , 4.4, 1.4]), array([0., 1., 0.], dtype=float32)),\n (array([6.8, 2.8, 4.8, 1.4]), array([0., 1., 0.], dtype=float32)),\n (array([6.7, 3. , 5. , 1.7]), array([0., 1., 0.], dtype=float32)),\n (array([6. , 2.9, 4.5, 1.5]), array([0., 1., 0.], dtype=float32)),\n (array([5.7, 2.6, 3.5, 1. ]), array([0., 1., 0.], dtype=float32)),\n (array([5.5, 2.4, 3.8, 1.1]), array([0., 1., 0.], dtype=float32)),\n (array([5.5, 2.4, 3.7, 1. ]), array([0., 1., 0.], dtype=float32)),\n (array([5.8, 2.7, 3.9, 1.2]), array([0., 1., 0.], dtype=float32)),\n (array([6. , 2.7, 5.1, 1.6]), array([0., 1., 0.], dtype=float32)),\n (array([5.4, 3. , 4.5, 1.5]), array([0., 1., 0.], dtype=float32)),\n (array([6. , 3.4, 4.5, 1.6]), array([0., 1., 0.], dtype=float32)),\n (array([6.7, 3.1, 4.7, 1.5]), array([0., 1., 0.], dtype=float32)),\n (array([6.3, 2.3, 4.4, 1.3]), array([0., 1., 0.], dtype=float32)),\n (array([5.6, 3. , 4.1, 1.3]), array([0., 1., 0.], dtype=float32)),\n (array([5.5, 2.5, 4. , 1.3]), array([0., 1., 0.], dtype=float32)),\n (array([5.5, 2.6, 4.4, 1.2]), array([0., 1., 0.], dtype=float32)),\n (array([6.1, 3. , 4.6, 1.4]), array([0., 1., 0.], dtype=float32)),\n (array([5.8, 2.6, 4. , 1.2]), array([0., 1., 0.], dtype=float32)),\n (array([5. , 2.3, 3.3, 1. ]), array([0., 1., 0.], dtype=float32)),\n (array([5.6, 2.7, 4.2, 1.3]), array([0., 1., 0.], dtype=float32)),\n (array([5.7, 3. , 4.2, 1.2]), array([0., 1., 0.], dtype=float32)),\n (array([5.7, 2.9, 4.2, 1.3]), array([0., 1., 0.], dtype=float32)),\n (array([6.2, 2.9, 4.3, 1.3]), array([0., 1., 0.], dtype=float32)),\n (array([5.1, 2.5, 3. , 1.1]), array([0., 1., 0.], dtype=float32)),\n (array([5.7, 2.8, 4.1, 1.3]), array([0., 1., 0.], dtype=float32)),\n (array([6.3, 3.3, 6. , 2.5]), array([0., 0., 1.], dtype=float32)),\n (array([5.8, 2.7, 5.1, 1.9]), array([0., 0., 1.], dtype=float32)),\n (array([7.1, 3. , 5.9, 2.1]), array([0., 0., 1.], dtype=float32)),\n (array([6.3, 2.9, 5.6, 1.8]), array([0., 0., 1.], dtype=float32)),\n (array([6.5, 3. , 5.8, 2.2]), array([0., 0., 1.], dtype=float32)),\n (array([7.6, 3. , 6.6, 2.1]), array([0., 0., 1.], dtype=float32)),\n (array([4.9, 2.5, 4.5, 1.7]), array([0., 0., 1.], dtype=float32)),\n (array([7.3, 2.9, 6.3, 1.8]), array([0., 0., 1.], dtype=float32)),\n (array([6.7, 2.5, 5.8, 1.8]), array([0., 0., 1.], dtype=float32)),\n (array([7.2, 3.6, 6.1, 2.5]), array([0., 0., 1.], dtype=float32)),\n (array([6.5, 3.2, 5.1, 2. ]), array([0., 0., 1.], dtype=float32)),\n (array([6.4, 2.7, 5.3, 1.9]), array([0., 0., 1.], dtype=float32)),\n (array([6.8, 3. , 5.5, 2.1]), array([0., 0., 1.], dtype=float32)),\n (array([5.7, 2.5, 5. , 2. ]), array([0., 0., 1.], dtype=float32)),\n (array([5.8, 2.8, 5.1, 2.4]), array([0., 0., 1.], dtype=float32)),\n (array([6.4, 3.2, 5.3, 2.3]), array([0., 0., 1.], dtype=float32)),\n (array([6.5, 3. , 5.5, 1.8]), array([0., 0., 1.], dtype=float32)),\n (array([7.7, 3.8, 6.7, 2.2]), array([0., 0., 1.], dtype=float32)),\n (array([7.7, 2.6, 6.9, 2.3]), array([0., 0., 1.], dtype=float32)),\n (array([6. , 2.2, 5. , 1.5]), array([0., 0., 1.], dtype=float32)),\n (array([6.9, 3.2, 5.7, 2.3]), array([0., 0., 1.], dtype=float32)),\n (array([5.6, 2.8, 4.9, 2. ]), array([0., 0., 1.], dtype=float32)),\n (array([7.7, 2.8, 6.7, 2. ]), array([0., 0., 1.], dtype=float32)),\n (array([6.3, 2.7, 4.9, 1.8]), array([0., 0., 1.], dtype=float32)),\n (array([6.7, 3.3, 5.7, 2.1]), array([0., 0., 1.], dtype=float32)),\n (array([7.2, 3.2, 6. , 1.8]), array([0., 0., 1.], dtype=float32)),\n (array([6.2, 2.8, 4.8, 1.8]), array([0., 0., 1.], dtype=float32)),\n (array([6.1, 3. , 4.9, 1.8]), array([0., 0., 1.], dtype=float32)),\n (array([6.4, 2.8, 5.6, 2.1]), array([0., 0., 1.], dtype=float32)),\n (array([7.2, 3. , 5.8, 1.6]), array([0., 0., 1.], dtype=float32)),\n (array([7.4, 2.8, 6.1, 1.9]), array([0., 0., 1.], dtype=float32)),\n (array([7.9, 3.8, 6.4, 2. ]), array([0., 0., 1.], dtype=float32)),\n (array([6.4, 2.8, 5.6, 2.2]), array([0., 0., 1.], dtype=float32)),\n (array([6.3, 2.8, 5.1, 1.5]), array([0., 0., 1.], dtype=float32)),\n (array([6.1, 2.6, 5.6, 1.4]), array([0., 0., 1.], dtype=float32)),\n (array([7.7, 3. , 6.1, 2.3]), array([0., 0., 1.], dtype=float32)),\n (array([6.3, 3.4, 5.6, 2.4]), array([0., 0., 1.], dtype=float32)),\n (array([6.4, 3.1, 5.5, 1.8]), array([0., 0., 1.], dtype=float32)),\n (array([6. , 3. , 4.8, 1.8]), array([0., 0., 1.], dtype=float32)),\n (array([6.9, 3.1, 5.4, 2.1]), array([0., 0., 1.], dtype=float32)),\n (array([6.7, 3.1, 5.6, 2.4]), array([0., 0., 1.], dtype=float32)),\n (array([6.9, 3.1, 5.1, 2.3]), array([0., 0., 1.], dtype=float32)),\n (array([5.8, 2.7, 5.1, 1.9]), array([0., 0., 1.], dtype=float32)),\n (array([6.8, 3.2, 5.9, 2.3]), array([0., 0., 1.], dtype=float32)),\n (array([6.7, 3.3, 5.7, 2.5]), array([0., 0., 1.], dtype=float32)),\n (array([6.7, 3. , 5.2, 2.3]), array([0., 0., 1.], dtype=float32)),\n (array([6.3, 2.5, 5. , 1.9]), array([0., 0., 1.], dtype=float32)),\n (array([6.5, 3. , 5.2, 2. ]), array([0., 0., 1.], dtype=float32)),\n (array([6.2, 3.4, 5.4, 2.3]), array([0., 0., 1.], dtype=float32)),\n (array([5.9, 3. , 5.1, 1.8]), array([0., 0., 1.], dtype=float32))]"
     },
     "execution_count": 4,
     "metadata": {},
     "output_type": "execute_result"
    }
   ],
   "source": [
    "iris = datasets.load_iris()\n",
    "X = iris.data\n",
    "y = iris.target\n",
    "y = to_categorical(y)\n",
    "\n",
    "#norm=np.linalg.norm(y)\n",
    "#y/=norm\n",
    "\n",
    "list(zip(X, y))"
   ],
   "metadata": {
    "collapsed": false
   }
  },
  {
   "cell_type": "code",
   "execution_count": 22,
   "metadata": {
    "collapsed": true
   },
   "outputs": [],
   "source": [
    "def sigmoid(x):\n",
    "    return 1 / (1 + np.exp(-x))\n",
    "\n",
    "\n",
    "def sigmoid_der(x):\n",
    "    x = sigmoid(x)\n",
    "    return x * (1 - x)\n",
    "\n",
    "class Net:\n",
    "    def __init__(self, layers, alpha=0.01):\n",
    "        self.num_layers = len(layers)\n",
    "        self.weights = [np.random.randn(m, n) for n, m in zip(layers[:-1], layers[1:])]\n",
    "        self.biases = [np.random.randn(m) for m in layers[1:]]\n",
    "        self.alpha = alpha\n",
    "\n",
    "    def predict(self, X):\n",
    "        for W, b in list(zip(self.weights, self.biases)):\n",
    "            X = sigmoid(np.dot(W, X) + b)\n",
    "        return X\n",
    "\n",
    "    def feed_forward(self, X):\n",
    "        activations = [X]\n",
    "        for W, b in list(zip(self.weights, self.biases)):\n",
    "            X = sigmoid(np.dot(W, X) + b)\n",
    "            activations.append(X)\n",
    "        return activations, X\n",
    "\n",
    "    def backpropagate(self, X, y):\n",
    "        delta_W = [np.zeros(W.shape) for W in self.weights]\n",
    "        delta_b = [np.zeros(b.shape) for b in self.biases]\n",
    "\n",
    "        activations, y_hat = self.feed_forward(X)\n",
    "        delta = (y_hat - y) * activations[-1] * (1 - activations[-1])\n",
    "\n",
    "        delta_b[-1] = delta\n",
    "        delta_W[-1] = np.dot(delta, activations[-2].T)\n",
    "\n",
    "        for l in range(2, self.num_layers):\n",
    "            delta = np.dot(self.weights[-l + 1].T, delta) * activations[-l]\n",
    "            delta_b[-l] = delta\n",
    "            delta_W[-l] = np.dot(delta, activations[-l - 1].T)\n",
    "        return delta_W, delta_b\n",
    "\n",
    "    def train(self, train_data, epochs, batch_size, test_data=None):\n",
    "        for e in range(epochs):\n",
    "            np.random.shuffle(train_data)\n",
    "            for i in range(0, len(train_data), batch_size):\n",
    "                batch = train_data[i: i + batch_size]\n",
    "\n",
    "                delta_W = [np.zeros(W.shape) for W in self.weights]\n",
    "                delta_b = [np.zeros(b.shape) for b in self.biases]\n",
    "\n",
    "                for x, y in batch:\n",
    "                    batch_delta_W, batch_delta_b = self.backpropagate(x, y)\n",
    "                    delta_W += batch_delta_W\n",
    "                    delta_b += batch_delta_b\n",
    "\n",
    "                self.weights = [w - self.alpha / len(batch) * dW for w, dW in zip(self.weights, delta_W)]\n",
    "                self.biases = [b - self.alpha / len(batch) * db for b, db in zip(self.biases, delta_b)]\n",
    "        # if test_data: print(f'Epoch {e}: accuracy: {}')\n",
    "\n",
    "    # def score(self, test_data):\n",
    "    #     X, y = test_data\n",
    "    #     y_hat = [np.argmax(y_) for y_ in self.predict(X)]\n",
    "    #     return np.sum(y_hat == )"
   ]
  },
  {
   "cell_type": "code",
   "execution_count": null,
   "outputs": [
    {
     "name": "stdout",
     "output_type": "stream",
     "text": [
      "[array([[-1.83481998, -0.22531547,  0.00731514, -0.10159897],\n",
      "       [ 0.50383634,  0.17753931, -0.10534116,  0.54892348],\n",
      "       [ 1.40806816,  0.85336245, -0.2721946 ,  1.2526889 ]]), array([[-0.51782711,  0.94394527,  0.987623  ],\n",
      "       [-0.00452818,  1.31526619,  2.83412745],\n",
      "       [ 0.36520076,  2.75039259,  0.78281552]])]\n"
     ]
    }
   ],
   "source": [
    "model = Net([4, 3, 3])\n",
    "print(model.weights)\n",
    "# model.predict(X[0])\n",
    "model.train(list(zip(X, y)), 5, 10)"
   ],
   "metadata": {
    "collapsed": false,
    "pycharm": {
     "is_executing": true
    }
   }
  }
 ],
 "metadata": {
  "kernelspec": {
   "display_name": "Python 3",
   "language": "python",
   "name": "python3"
  },
  "language_info": {
   "codemirror_mode": {
    "name": "ipython",
    "version": 2
   },
   "file_extension": ".py",
   "mimetype": "text/x-python",
   "name": "python",
   "nbconvert_exporter": "python",
   "pygments_lexer": "ipython2",
   "version": "2.7.6"
  }
 },
 "nbformat": 4,
 "nbformat_minor": 0
}
